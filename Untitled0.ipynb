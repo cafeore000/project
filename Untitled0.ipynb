{
  "nbformat": 4,
  "nbformat_minor": 0,
  "metadata": {
    "colab": {
      "provenance": [],
      "authorship_tag": "ABX9TyNE5hMsVm1bhN3pbcmxa/RK",
      "include_colab_link": true
    },
    "kernelspec": {
      "name": "python3",
      "display_name": "Python 3"
    },
    "language_info": {
      "name": "python"
    }
  },
  "cells": [
    {
      "cell_type": "markdown",
      "metadata": {
        "id": "view-in-github",
        "colab_type": "text"
      },
      "source": [
        "<a href=\"https://colab.research.google.com/github/cafeore000/project/blob/main/Untitled0.ipynb\" target=\"_parent\"><img src=\"https://colab.research.google.com/assets/colab-badge.svg\" alt=\"Open In Colab\"/></a>"
      ]
    },
    {
      "cell_type": "code",
      "execution_count": null,
      "metadata": {
        "colab": {
          "base_uri": "https://localhost:8080/"
        },
        "id": "YrreVWk9ybC2",
        "outputId": "50828231-295d-4066-9d15-7d5f516ce9d6"
      },
      "outputs": [
        {
          "output_type": "stream",
          "name": "stdout",
          "text": [
            "CAFEORE　Started-up. Hello word\n",
            "What is my work.\"help\" to show helphelp\n",
            "{'Cipher making': 'Make your letter to cipher',\n",
            " 'Cipher translating': 'Tramslate your cipher to letter'}\n"
          ]
        }
      ],
      "source": [
        "import pprint\n",
        "print('CAFEORE　Started-up. Hello word')\n",
        "\n",
        "def cafeore():\n",
        "  menu=input('What is my work.\"help\" to show help')\n",
        "  if menu==('Cipher making'):\n",
        "      Cipher()\n",
        "  elif menu==('help'):\n",
        "      help()\n",
        "  elif menu==('Cipher translating'):\n",
        "      Cipher_t()\n",
        "\n",
        "def Cipher():\n",
        "    txt=input('english(lower)')\n",
        "    txt=txt.replace('a',' 00001 ').replace('b',' 00010 ').replace('c',' 00011 ').replace('d',' 00100 ').replace('e',' 00101 ').replace('f',' 00110 ').replace('g',' 00111 ').replace('h',' 01000 ').replace('i',' 01001 ').replace('j'\n",
        ",' 01010 ').replace('k',' 01011 ').replace('l',' 01100 ').replace('m',' 01101 ').replace('n',' 01110 ').replace('o',' 01111 ').replace('p',' 10000 ').replace('q',' 10001 ').replace('r',' 10010 ').replace('s',' 10011 ').replace('t'\n",
        ",' 10100 ').replace('u',' 10101 ').replace('v',' 10110 ').replace('w',' 10111 ').replace('x',' 11000 ').replace('y',' 11001 ').replace('z',' 11010 ')\n",
        "    print(txt)\n",
        "\n",
        "def Cipher_t():\n",
        "    word=input('cipher')\n",
        "    word=word.replace(' 00001 ','a').replace(' 00010 ','b').replace(' 00011 ','c').replace(' 00100 ','d').replace(' 00101 ','e').replace(' 00110 ','f').replace(' 00111 ','g').replace(' 01000 ','h').replace(' 01001 ','i').replace(' 01010 '\n",
        ",'j').replace(' 01011 ','k').replace(' 01100 ','l').replace(' 01101 ','m').replace(' 01110 ','n').replace(' 01111 ','o').replace(' 10000 ','p').replace(' 10001 ','q').replace(' 10010 ','r').replace(' 10011 ','s').replace(' 10100 '\n",
        ",'t').replace(' 10101 ','u').replace(' 10110 ','v').replace(' 10111 ','w').replace(' 11000 ','x').replace(' 11001 ','y').replace(' 11010','z')\n",
        "    print(word)\n",
        "\n",
        "def help():\n",
        "    pprint.pprint(helplist)\n",
        "\n",
        "\n",
        "helplist={\"Cipher making\":\"Make your letter to cipher\",\"Cipher translating\":\"Tramslate your cipher to letter\"}\n",
        "\n",
        "\n",
        "\n",
        "\n",
        "while 2>0:\n",
        "    cafeore()\n",
        "\n"
      ]
    }
  ]
}